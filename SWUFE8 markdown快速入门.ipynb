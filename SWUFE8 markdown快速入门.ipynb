{
 "cells": [
  {
   "cell_type": "markdown",
   "metadata": {},
   "source": [
    "<div  style=\"color:black; width: 100%; background: linear-gradient(to right , #174ca9, #4472c4, #174ca9 ) no-repeat left top; border-bottom:6px solid #4caf4f; position: relative;\"> \n",
    "    <div style=\"color:#fff; line-height:54px;font-size:30px;padding-top:15px; text-align: center; font-weight: bold; \">SWUFE8分钟</div>\n",
    "<div style=\"color:#fff;font-size:20px; font-weight: bold; padding-top:20x; text-align: center;\">MARKDOWN快速入门</div>\n",
    "<div style=\" text-align: center; color:rgba(255,255,255,.8); padding-top:15px; padding-bottom:20px;\">SWUFE FintechLab</div>\n",
    "</div>"
   ]
  },
  {
   "cell_type": "markdown",
   "metadata": {},
   "source": [
    "## 我们为什么使用markdown"
   ]
  },
  {
   "cell_type": "markdown",
   "metadata": {},
   "source": [
    "- Markdown是一种纯文本格式的标记语言。通过简单的标记语法，它可以使普通文本内容具有一定的格式。当在Jupyter Notebook中使用markdown标记语言时，我们能赋予Notebook富媒体文本的展现。\n",
    "- 在Jupyter Notebook中使用markdown标记语言时，我们需要在代码下拉框选择“markdown”；当使用markdown写完需要查看展现效果时，运行(ctrl+enter)即可查看。"
   ]
  },
  {
   "cell_type": "markdown",
   "metadata": {},
   "source": [
    "---\n",
    "~~~\n",
    "【Do It Now】\n",
    "在下一个框内复制粘贴并运行(ctrl+enter)一下这段代码，看看发生了什么?\n",
    "\n",
    "这是我~~第一句~~用**Markdown**书写的*语句*！\n",
    "~~~"
   ]
  },
  {
   "cell_type": "markdown",
   "metadata": {},
   "source": []
  },
  {
   "cell_type": "markdown",
   "metadata": {},
   "source": []
  },
  {
   "cell_type": "markdown",
   "metadata": {},
   "source": [
    "---"
   ]
  },
  {
   "cell_type": "markdown",
   "metadata": {},
   "source": [
    "## Markdown有哪些用法"
   ]
  },
  {
   "cell_type": "markdown",
   "metadata": {},
   "source": [
    "- ### **标题**\n",
    "在想要设置为标题的文字前面加#来表示\n",
    "一个#是一级标题，二个#是二级标题，以此类推。支持六级标题。\n",
    "标准语法一般在#后跟个空格再写文字\n",
    "例如:\n",
    "# 这是一级标题\n",
    "## 这是二级标题"
   ]
  },
  {
   "cell_type": "markdown",
   "metadata": {},
   "source": [
    "---"
   ]
  },
  {
   "cell_type": "markdown",
   "metadata": {},
   "source": [
    "- ### **文字加粗/斜体/删除线**\n",
    "   - 加粗 \n",
    "要加粗的文字左右分别用两个*号包起来\n",
    "\n",
    "   - 斜体\n",
    "要倾斜的文字左右分别用一个*号包起来\n",
    "\n",
    "   - 斜体加粗\n",
    "要倾斜和加粗的文字左右分别用三个*号包起来\n",
    "\n",
    "   - 删除线\n",
    "要加删除线的文字左右分别用两个~~号包起来\n",
    "\n",
    "   - 分割线\n",
    "三个---即可实现分割线\n",
    "看看长什么样儿？"
   ]
  },
  {
   "cell_type": "markdown",
   "metadata": {},
   "source": [
    "---\n",
    "~~~\n",
    "【Do It Now】\n",
    "--- \n",
    "~~~"
   ]
  },
  {
   "cell_type": "markdown",
   "metadata": {},
   "source": []
  },
  {
   "cell_type": "markdown",
   "metadata": {},
   "source": [
    "---"
   ]
  },
  {
   "cell_type": "markdown",
   "metadata": {},
   "source": [
    "   - ### **引用**\n",
    "在引用的文字前加>。引用支持嵌套，如加两个>>三个>>>\n",
    "示例：\n",
    "> 这是引用自陆游的一句诗词 \n",
    ">>  纸上得来终觉浅 绝知此事要躬行"
   ]
  },
  {
   "cell_type": "markdown",
   "metadata": {},
   "source": [
    "- ### **插入图片、链接**\n",
    "   - 插入URL\n",
    "~~~\n",
    "![图片描述](图片地址)\n",
    "~~~\n",
    "图片地址可以是一个URL地址，比如 https://www.swufe.edu.cn/custom/images/logo.jpg\n",
    "我们可以这样来展示：\n",
    "~~~\n",
    "![西南财经大学logo](https://www.swufe.edu.cn/custom/images/logo.jpg)\n",
    "~~~\n",
    "效果如下\n",
    "\n",
    "![西南财经大学logo](https://www.swufe.edu.cn/custom/images/logo.jpg)"
   ]
  },
  {
   "cell_type": "markdown",
   "metadata": {},
   "source": [
    "\n",
    "   - 插入本地文件\n",
    "   图片地址也可以是一个相对引用位置，比如和当前文档在同一个目录下的图片\n",
    "~~~\n",
    "![同一目录下的图片引用](./图片.jpg)\n",
    "~~~\n",
    "比如，我在这个md、Notebook保存的目录下，放置一张照片，可以这样来展示：\n",
    "~~~\n",
    "![同一目录下的图片引用](./logo.jpg)\n",
    "~~~\n",
    "效果如下\n",
    "\n",
    "![同一目录下的图片引用](./logo.jpg)"
   ]
  },
  {
   "cell_type": "markdown",
   "metadata": {},
   "source": [
    "\n",
    "   - 插入链接\n",
    "[西南财经大学](https://www.swufe.edu.cn)"
   ]
  },
  {
   "cell_type": "markdown",
   "metadata": {},
   "source": [
    "- ### **列表**\n",
    "   \n",
    "   - 无序列表用 - + * 加空格即可\n",
    "   - 有序列表用1.加空格 比如\n",
    "      1.  有序列表第一个\n",
    "      2. 有序列表第二个"
   ]
  },
  {
   "cell_type": "markdown",
   "metadata": {},
   "source": [
    " - ### **代码引用**\n",
    "   - 单行代码：代码之间分别用一个反引号包起来\n",
    "   - 多行代码：代码之间分别用三个反引号包起来，同时两头反引号各单独占一行"
   ]
  },
  {
   "cell_type": "markdown",
   "metadata": {},
   "source": [
    "\n",
    "`import 单行代码`\n",
    "\n",
    "\n",
    "```\n",
    "多行代码\n",
    "~/rss$ sqlite3 rss.db    \n",
    "SQLite version 3.23.1 2018-04-10 17:39:29     \n",
    "Enter \".help\" for usage hints.    \n",
    "sqlite>create table news(    \n",
    "    id integer primary key autoincrement,    \n",
    "    source varchar(32) not null,    \n",
    "    category varchar(128) not null,    \n",
    "    title varchar(256) not null,      \n",
    "    link varchar(256) unique not null,     \n",
    "    description text not null,     \n",
    "    pubDate datetime not null     \n",
    ");\n",
    "```"
   ]
  },
  {
   "cell_type": "markdown",
   "metadata": {},
   "source": [
    "---\n",
    "【SWUFE8 练习】\n",
    "上传一张照片，并在下面代码框内用Markdown语言展示出来"
   ]
  },
  {
   "cell_type": "markdown",
   "metadata": {},
   "source": []
  },
  {
   "cell_type": "markdown",
   "metadata": {},
   "source": [
    "<div  style=\"color:black; width: 100%; border-top:2px #0f69b6 solid; height:40px;\"> \n",
    "<span style=\"color:#0f69b6; padding-left:10px; padding-top:10px;  float:left\">MARKDOWN</span>\n",
    "<span style=\"color:#0f69b6;  float:right; text-align: right; padding-right:10px; padding-top:10px;\">SWUFE</span>\n",
    "</div>"
   ]
  }
 ],
 "metadata": {
  "kernelspec": {
   "display_name": "Python 3",
   "language": "python",
   "name": "python3"
  },
  "language_info": {
   "codemirror_mode": {
    "name": "ipython",
    "version": 3
   },
   "file_extension": ".py",
   "mimetype": "text/x-python",
   "name": "python",
   "nbconvert_exporter": "python",
   "pygments_lexer": "ipython3",
   "version": "3.6.5"
  }
 },
 "nbformat": 4,
 "nbformat_minor": 2
}
